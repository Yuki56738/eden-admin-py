{
 "cells": [
  {
   "cell_type": "code",
   "execution_count": 24,
   "id": "bcfa3c0f-e02d-4729-8ea9-ce8baa5e164d",
   "metadata": {},
   "outputs": [],
   "source": [
    "from google.cloud import firestore"
   ]
  },
  {
   "cell_type": "code",
   "execution_count": 25,
   "id": "fca64bdc-29bb-4c96-a575-d291300d5dff",
   "metadata": {},
   "outputs": [],
   "source": [
    "db = firestore.Client()"
   ]
  },
  {
   "cell_type": "code",
   "execution_count": 42,
   "id": "4917ab42-5363-4937-b6ab-7a8ad58dacf1",
   "metadata": {},
   "outputs": [],
   "source": [
    "db1 = db.collection(\"guilddb\").document(document_id=\"ticketTxt\")"
   ]
  },
  {
   "cell_type": "code",
   "execution_count": 43,
   "id": "aa7c5f0c-afad-48a7-ba1b-68d686619deb",
   "metadata": {},
   "outputs": [
    {
     "ename": "TypeError",
     "evalue": "DocumentReference.create() missing 1 required positional argument: 'document_data'",
     "output_type": "error",
     "traceback": [
      "\u001b[0;31m---------------------------------------------------------------------------\u001b[0m",
      "\u001b[0;31mTypeError\u001b[0m                                 Traceback (most recent call last)",
      "Cell \u001b[0;32mIn[43], line 1\u001b[0m\n\u001b[0;32m----> 1\u001b[0m \u001b[43mdb1\u001b[49m\u001b[38;5;241;43m.\u001b[39;49m\u001b[43mcreate\u001b[49m\u001b[43m(\u001b[49m\u001b[43m)\u001b[49m\n",
      "\u001b[0;31mTypeError\u001b[0m: DocumentReference.create() missing 1 required positional argument: 'document_data'"
     ]
    }
   ],
   "source": []
  },
  {
   "cell_type": "code",
   "execution_count": null,
   "id": "bf3d4e8e-b582-4c68-aeb9-c59f4e7df8ee",
   "metadata": {},
   "outputs": [],
   "source": []
  }
 ],
 "metadata": {
  "kernelspec": {
   "display_name": "Python 3 (ipykernel)",
   "language": "python",
   "name": "python3"
  },
  "language_info": {
   "codemirror_mode": {
    "name": "ipython",
    "version": 3
   },
   "file_extension": ".py",
   "mimetype": "text/x-python",
   "name": "python",
   "nbconvert_exporter": "python",
   "pygments_lexer": "ipython3",
   "version": "3.11.1"
  }
 },
 "nbformat": 4,
 "nbformat_minor": 5
}
